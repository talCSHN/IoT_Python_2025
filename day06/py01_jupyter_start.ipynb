{
 "cells": [
  {
   "cell_type": "markdown",
   "metadata": {},
   "source": [
    "# 주피터 노트북 시작\n",
    "\n",
    "## 주피터 노트북이란\n",
    "\n",
    "- 과학자들의 인터렉티브한 코드 생성을 위한 프로젝트 주피터에서부터 시작한 파이썬 코딩 방식\n",
    "\n",
    "## 주피터 사용법\n",
    "\n",
    "### 마크다운 쉘\n",
    "- 마크다운문법으로 리포팅기능 가진 문서를 작업하는 쉘\n",
    "\n",
    "#### 단축키\n",
    "1. Enter : 마크다운 쉘로 진입\n",
    "2. Ctrl + Enter : 마크다운 쉘 실행(랜더링) 후 빠져나가기\n",
    "\n",
    "### 코드 쉘\n",
    "- 파이썬 등 프로그램 언어가 동작하는 쉘\n",
    "\n",
    "#### 단축키\n",
    "1. Enter : 코드 쉘로 진입\n",
    "2. Ctrl + Enter : 프로그램을 실행하고 결과를 출력한 뒤 쉘을 빠져나감\n",
    "3. Alt + Enter : Ctrl + Enter 와 b 합친 실행\n",
    "4. b : 현재 쉘 아래에 새로운 코드 쉘 생성\n",
    "5. a : 현재 쉘 위에 새로운 코드 쉘 생성\n",
    "6. l : 코드 라인 수 표시"
   ]
  },
  {
   "cell_type": "code",
   "execution_count": 3,
   "metadata": {},
   "outputs": [
    {
     "name": "stdout",
     "output_type": "stream",
     "text": [
      "Hello, Jupyter\n"
     ]
    }
   ],
   "source": [
    "# 주피터 노트북 첫 파이썬 실행\n",
    "print('Hello, Jupyter')"
   ]
  },
  {
   "cell_type": "markdown",
   "metadata": {},
   "source": [
    "### 터미널 명령어 실행\n",
    "- 코드 쉘에서 !를 붙이고 명령어를 실행\n",
    "- !pip install pandas"
   ]
  },
  {
   "cell_type": "code",
   "execution_count": null,
   "metadata": {},
   "outputs": [
    {
     "name": "stdout",
     "output_type": "stream",
     "text": [
      "Collecting pandas\n",
      "  Downloading pandas-2.2.3-cp311-cp311-win_amd64.whl.metadata (19 kB)\n",
      "Collecting numpy>=1.23.2 (from pandas)\n",
      "  Downloading numpy-2.2.2-cp311-cp311-win_amd64.whl.metadata (60 kB)\n",
      "     ---------------------------------------- 0.0/60.8 kB ? eta -:--:--\n",
      "     ---------------------------------------- 60.8/60.8 kB 1.6 MB/s eta 0:00:00\n",
      "Requirement already satisfied: python-dateutil>=2.8.2 in c:\\users\\admin\\.pyenv\\pyenv-win\\versions\\3.11.9\\lib\\site-packages (from pandas) (2.9.0.post0)\n",
      "Collecting pytz>=2020.1 (from pandas)\n",
      "  Downloading pytz-2025.1-py2.py3-none-any.whl.metadata (22 kB)\n",
      "Collecting tzdata>=2022.7 (from pandas)\n",
      "  Downloading tzdata-2025.1-py2.py3-none-any.whl.metadata (1.4 kB)\n",
      "Requirement already satisfied: six>=1.5 in c:\\users\\admin\\.pyenv\\pyenv-win\\versions\\3.11.9\\lib\\site-packages (from python-dateutil>=2.8.2->pandas) (1.17.0)\n",
      "Downloading pandas-2.2.3-cp311-cp311-win_amd64.whl (11.6 MB)\n",
      "   ---------------------------------------- 0.0/11.6 MB ? eta -:--:--\n",
      "   - -------------------------------------- 0.4/11.6 MB 7.4 MB/s eta 0:00:02\n",
      "   -- ------------------------------------- 0.9/11.6 MB 9.2 MB/s eta 0:00:02\n",
      "   --- ------------------------------------ 1.0/11.6 MB 9.4 MB/s eta 0:00:02\n",
      "   ---- ----------------------------------- 1.3/11.6 MB 7.0 MB/s eta 0:00:02\n",
      "   ------- -------------------------------- 2.1/11.6 MB 9.1 MB/s eta 0:00:02\n",
      "   ---------- ----------------------------- 3.1/11.6 MB 11.1 MB/s eta 0:00:01\n",
      "   --------------- ------------------------ 4.4/11.6 MB 13.5 MB/s eta 0:00:01\n",
      "   -------------------- ------------------- 5.8/11.6 MB 15.5 MB/s eta 0:00:01\n",
      "   --------------------- ------------------ 6.3/11.6 MB 16.7 MB/s eta 0:00:01\n",
      "   ----------------------- ---------------- 6.7/11.6 MB 14.3 MB/s eta 0:00:01\n",
      "   ---------------------------- ----------- 8.4/11.6 MB 16.8 MB/s eta 0:00:01\n",
      "   ----------------------------- ---------- 8.4/11.6 MB 15.4 MB/s eta 0:00:01\n",
      "   ---------------------------------------  11.3/11.6 MB 24.2 MB/s eta 0:00:01\n",
      "   ---------------------------------------- 11.6/11.6 MB 24.2 MB/s eta 0:00:00\n",
      "Downloading numpy-2.2.2-cp311-cp311-win_amd64.whl (12.9 MB)\n",
      "   ---------------------------------------- 0.0/12.9 MB ? eta -:--:--\n",
      "   -------- ------------------------------- 2.7/12.9 MB 56.4 MB/s eta 0:00:01\n",
      "   ------------ --------------------------- 4.1/12.9 MB 52.1 MB/s eta 0:00:01\n",
      "   ------------------ --------------------- 5.9/12.9 MB 47.1 MB/s eta 0:00:01\n",
      "   --------------------------- ------------ 8.9/12.9 MB 47.6 MB/s eta 0:00:01\n",
      "   ----------------------------------- ---- 11.5/12.9 MB 46.9 MB/s eta 0:00:01\n",
      "   ---------------------------------------  12.9/12.9 MB 46.7 MB/s eta 0:00:01\n",
      "   ---------------------------------------- 12.9/12.9 MB 40.9 MB/s eta 0:00:00\n",
      "Downloading pytz-2025.1-py2.py3-none-any.whl (507 kB)\n",
      "   ---------------------------------------- 0.0/507.9 kB ? eta -:--:--\n",
      "   ---------------------------------------- 507.9/507.9 kB ? eta 0:00:00\n",
      "Downloading tzdata-2025.1-py2.py3-none-any.whl (346 kB)\n",
      "   ---------------------------------------- 0.0/346.8 kB ? eta -:--:--\n",
      "   --------------------------------------- 346.8/346.8 kB 21.0 MB/s eta 0:00:00\n",
      "Installing collected packages: pytz, tzdata, numpy, pandas\n",
      "Successfully installed numpy-2.2.2 pandas-2.2.3 pytz-2025.1 tzdata-2025.1\n"
     ]
    },
    {
     "name": "stderr",
     "output_type": "stream",
     "text": [
      "\n",
      "[notice] A new release of pip is available: 24.0 -> 25.0\n",
      "[notice] To update, run: python.exe -m pip install --upgrade pip\n"
     ]
    }
   ],
   "source": [
    "# 무조건 !를 붙이세요\n",
    "!pip install pandas"
   ]
  },
  {
   "cell_type": "code",
   "execution_count": 6,
   "metadata": {},
   "outputs": [
    {
     "name": "stdout",
     "output_type": "stream",
     "text": [
      " Volume in drive C has no label.\n",
      " Volume Serial Number is 4A02-284C\n",
      "\n",
      " Directory of c:\\Source\\IoT_Python_2025\\day06\n",
      "\n",
      "2025-02-10  오전 10:45    <DIR>          .\n",
      "2025-02-10  오전 10:39    <DIR>          ..\n",
      "2025-02-10  오전 11:16             2,009 py01_jupyter_start.ipynb\n",
      "               1 File(s)          2,009 bytes\n",
      "               2 Dir(s)  174,664,114,176 bytes free\n"
     ]
    }
   ],
   "source": [
    "!dir"
   ]
  },
  {
   "cell_type": "markdown",
   "metadata": {},
   "source": [
    "## 결론\n",
    "\n",
    "- 마크다운 쉘로 필요한 정보나 내용을 바로 확인\n",
    "- 코드 쉘로 실행결과를 바로 아래에서 확인 가능\n",
    "- 논문이나 발표자료로 많이 활용\n",
    "- .py로 실행되는 로직이 주피터노트북에서 똑같이 실행되지는 않는 경우가 발생\n",
    "- 깃허브에도 주피터노트북이 그대로 출력(장점)\n",
    "- 단, 지도 라이브러리(folium)는 깃허브에 출력되지 않음\n",
    "\n",
    "### 주피터 노트북 사용 예\n",
    "- POC(Proof of Concept)로 사용 후, 나중에 .py등의 솔루션 적용함\n",
    "- 빅데이터 분석 등의 프로젝트에서는 주피터 노트북을 100% 사용중"
   ]
  }
 ],
 "metadata": {
  "kernelspec": {
   "display_name": "Python 3",
   "language": "python",
   "name": "python3"
  },
  "language_info": {
   "codemirror_mode": {
    "name": "ipython",
    "version": 3
   },
   "file_extension": ".py",
   "mimetype": "text/x-python",
   "name": "python",
   "nbconvert_exporter": "python",
   "pygments_lexer": "ipython3",
   "version": "3.11.9"
  }
 },
 "nbformat": 4,
 "nbformat_minor": 2
}
