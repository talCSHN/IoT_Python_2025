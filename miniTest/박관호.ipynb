{
 "cells": [
  {
   "cell_type": "markdown",
   "metadata": {},
   "source": [
    "# 1"
   ]
  },
  {
   "cell_type": "code",
   "execution_count": 1,
   "metadata": {},
   "outputs": [
    {
     "name": "stdout",
     "output_type": "stream",
     "text": [
      "28.274328000000004\n"
     ]
    }
   ],
   "source": [
    "pi = 3.141592\n",
    "r = input('반지름 입력')\n",
    "r = int(r)\n",
    "circleWid = pi * r * r\n",
    "print(circleWid)"
   ]
  },
  {
   "cell_type": "markdown",
   "metadata": {},
   "source": [
    "# 2"
   ]
  },
  {
   "cell_type": "code",
   "execution_count": 2,
   "metadata": {},
   "outputs": [
    {
     "data": {
      "text/plain": [
       "'www.google.com'"
      ]
     },
     "execution_count": 2,
     "metadata": {},
     "output_type": "execute_result"
    }
   ],
   "source": [
    "def get_url():\n",
    "    webSite = input('영문 웹사이트 이름')\n",
    "    url = f'www.{webSite}.com'\n",
    "\n",
    "    return url\n",
    "\n",
    "get_url()\n",
    "\n",
    "\n",
    "    "
   ]
  },
  {
   "cell_type": "markdown",
   "metadata": {},
   "source": [
    "# 3"
   ]
  },
  {
   "cell_type": "code",
   "execution_count": 3,
   "metadata": {},
   "outputs": [
    {
     "name": "stdout",
     "output_type": "stream",
     "text": [
      "9\n",
      "18\n",
      "27\n",
      "36\n",
      "45\n",
      "54\n",
      "63\n",
      "72\n",
      "81\n"
     ]
    }
   ],
   "source": [
    "x = input('출력할 구구단 숫자')\n",
    "x = int(x)\n",
    "for i in range(1, 10):\n",
    "    result = x * i\n",
    "    print(result)"
   ]
  },
  {
   "cell_type": "markdown",
   "metadata": {},
   "source": [
    "# 4"
   ]
  },
  {
   "cell_type": "code",
   "execution_count": 6,
   "metadata": {},
   "outputs": [
    {
     "name": "stdout",
     "output_type": "stream",
     "text": [
      "['1', '2', '3', '4']\n",
      "[4, 3, 2, 1]\n"
     ]
    }
   ],
   "source": [
    "list = []\n",
    "list = input('숫자 입력').split()\n",
    "print(list)\n",
    "for i in range(len(list)):\n",
    "    list[i] = int(list[i])\n",
    "list.reverse()\n",
    "\n",
    "print(list)"
   ]
  },
  {
   "cell_type": "markdown",
   "metadata": {},
   "source": [
    "# 5"
   ]
  },
  {
   "cell_type": "code",
   "execution_count": 19,
   "metadata": {},
   "outputs": [
    {
     "name": "stdout",
     "output_type": "stream",
     "text": [
      "phoneOwner : 박관호\n",
      "phoneNumber : 010-2310-6849\n",
      "company : 삼성\n"
     ]
    }
   ],
   "source": [
    "class SmartPhone:\n",
    "    def __init__(self, phoneOwner, phoneNumber, company):\n",
    "        self.phoneOwner = phoneOwner\n",
    "        self.phoneNumber = phoneNumber\n",
    "        self.company = company\n",
    "    def __str__(self):\n",
    "        toStrRes = (f'phoneOwner : {self.phoneOwner}\\n'\n",
    "                    f'phoneNumber : {self.phoneNumber}\\n'\n",
    "                    f'company : {self.company}')\n",
    "        return toStrRes\n",
    "    \n",
    "myPhone = SmartPhone('박관호', '010-2310-6849', '삼성')\n",
    "\n",
    "print(myPhone)\n",
    "        "
   ]
  }
 ],
 "metadata": {
  "kernelspec": {
   "display_name": "Python 3",
   "language": "python",
   "name": "python3"
  },
  "language_info": {
   "codemirror_mode": {
    "name": "ipython",
    "version": 3
   },
   "file_extension": ".py",
   "mimetype": "text/x-python",
   "name": "python",
   "nbconvert_exporter": "python",
   "pygments_lexer": "ipython3",
   "version": "3.11.9"
  }
 },
 "nbformat": 4,
 "nbformat_minor": 2
}
